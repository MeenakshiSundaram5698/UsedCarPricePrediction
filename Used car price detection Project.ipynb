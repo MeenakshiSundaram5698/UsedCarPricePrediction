{
 "cells": [
  {
   "cell_type": "code",
   "execution_count": 3,
   "id": "a07030cb",
   "metadata": {},
   "outputs": [],
   "source": [
    "import pandas as pd\n",
    "import numpy as np\n",
    "import matplotlib.pyplot as plt\n",
    "import seaborn as sns "
   ]
  },
  {
   "cell_type": "code",
   "execution_count": 4,
   "id": "2b4265b0",
   "metadata": {},
   "outputs": [],
   "source": [
    "data = pd.read_excel('used_car_dataset.xlsx')"
   ]
  },
  {
   "cell_type": "code",
   "execution_count": 5,
   "id": "0f6dbc97",
   "metadata": {},
   "outputs": [],
   "source": [
    "data = pd.DataFrame(data)"
   ]
  },
  {
   "cell_type": "code",
   "execution_count": 6,
   "id": "beeeed49",
   "metadata": {},
   "outputs": [
    {
     "data": {
      "text/html": [
       "<div>\n",
       "<style scoped>\n",
       "    .dataframe tbody tr th:only-of-type {\n",
       "        vertical-align: middle;\n",
       "    }\n",
       "\n",
       "    .dataframe tbody tr th {\n",
       "        vertical-align: top;\n",
       "    }\n",
       "\n",
       "    .dataframe thead th {\n",
       "        text-align: right;\n",
       "    }\n",
       "</style>\n",
       "<table border=\"1\" class=\"dataframe\">\n",
       "  <thead>\n",
       "    <tr style=\"text-align: right;\">\n",
       "      <th></th>\n",
       "      <th>Manufacturer</th>\n",
       "      <th>Model</th>\n",
       "      <th>Made Year</th>\n",
       "      <th>Mileage</th>\n",
       "      <th>Price</th>\n",
       "      <th>Dealer</th>\n",
       "      <th>Ratings</th>\n",
       "      <th>Reviews</th>\n",
       "    </tr>\n",
       "  </thead>\n",
       "  <tbody>\n",
       "    <tr>\n",
       "      <th>0</th>\n",
       "      <td>Honda</td>\n",
       "      <td>CR-V</td>\n",
       "      <td>2018</td>\n",
       "      <td>31,360 mi.</td>\n",
       "      <td>$33,489</td>\n",
       "      <td>Motor Werks - Barrington Auto Mall</td>\n",
       "      <td>4.8</td>\n",
       "      <td>4,656</td>\n",
       "    </tr>\n",
       "    <tr>\n",
       "      <th>1</th>\n",
       "      <td>Kia</td>\n",
       "      <td>Telluride</td>\n",
       "      <td>2021</td>\n",
       "      <td>5,665 mi.</td>\n",
       "      <td>$58,278</td>\n",
       "      <td>Dean Team Volkswagen Subaru of Ballwin</td>\n",
       "      <td>4.9</td>\n",
       "      <td>4,685</td>\n",
       "    </tr>\n",
       "    <tr>\n",
       "      <th>2</th>\n",
       "      <td>Cadillac</td>\n",
       "      <td>SRX</td>\n",
       "      <td>2012</td>\n",
       "      <td>99,736 mi.</td>\n",
       "      <td>$14,985</td>\n",
       "      <td>Hendersonville Auto Brokers</td>\n",
       "      <td>3.9</td>\n",
       "      <td>20</td>\n",
       "    </tr>\n",
       "    <tr>\n",
       "      <th>3</th>\n",
       "      <td>Chevrolet</td>\n",
       "      <td>Traverse</td>\n",
       "      <td>2020</td>\n",
       "      <td>48,705 mi.</td>\n",
       "      <td>$35,999</td>\n",
       "      <td>Vroom - Get It Delivered Nationwide</td>\n",
       "      <td>3.6</td>\n",
       "      <td>7,870</td>\n",
       "    </tr>\n",
       "    <tr>\n",
       "      <th>4</th>\n",
       "      <td>Honda</td>\n",
       "      <td>CR-V</td>\n",
       "      <td>2018</td>\n",
       "      <td>13,221 mi.</td>\n",
       "      <td>$34,995</td>\n",
       "      <td>Valley Honda</td>\n",
       "      <td>4.9</td>\n",
       "      <td>8,750</td>\n",
       "    </tr>\n",
       "  </tbody>\n",
       "</table>\n",
       "</div>"
      ],
      "text/plain": [
       "  Manufacturer      Model  Made Year     Mileage    Price  \\\n",
       "0        Honda       CR-V       2018  31,360 mi.  $33,489   \n",
       "1          Kia  Telluride       2021   5,665 mi.  $58,278   \n",
       "2     Cadillac        SRX       2012  99,736 mi.  $14,985   \n",
       "3    Chevrolet   Traverse       2020  48,705 mi.  $35,999   \n",
       "4        Honda       CR-V       2018  13,221 mi.  $34,995   \n",
       "\n",
       "                                   Dealer  Ratings Reviews  \n",
       "0      Motor Werks - Barrington Auto Mall      4.8  4,656   \n",
       "1  Dean Team Volkswagen Subaru of Ballwin      4.9  4,685   \n",
       "2             Hendersonville Auto Brokers      3.9     20   \n",
       "3     Vroom - Get It Delivered Nationwide      3.6  7,870   \n",
       "4                            Valley Honda      4.9  8,750   "
      ]
     },
     "execution_count": 6,
     "metadata": {},
     "output_type": "execute_result"
    }
   ],
   "source": [
    "data.head()"
   ]
  },
  {
   "cell_type": "code",
   "execution_count": 7,
   "id": "6c94acca",
   "metadata": {},
   "outputs": [
    {
     "data": {
      "text/plain": [
       "(24900, 8)"
      ]
     },
     "execution_count": 7,
     "metadata": {},
     "output_type": "execute_result"
    }
   ],
   "source": [
    "data.shape"
   ]
  },
  {
   "cell_type": "code",
   "execution_count": 8,
   "id": "c5759e75",
   "metadata": {},
   "outputs": [
    {
     "name": "stdout",
     "output_type": "stream",
     "text": [
      "<class 'pandas.core.frame.DataFrame'>\n",
      "RangeIndex: 24900 entries, 0 to 24899\n",
      "Data columns (total 8 columns):\n",
      " #   Column        Non-Null Count  Dtype  \n",
      "---  ------        --------------  -----  \n",
      " 0   Manufacturer  24900 non-null  object \n",
      " 1   Model         24900 non-null  object \n",
      " 2   Made Year     24900 non-null  int64  \n",
      " 3   Mileage       24800 non-null  object \n",
      " 4   Price         24900 non-null  object \n",
      " 5   Dealer        24900 non-null  object \n",
      " 6   Ratings       24700 non-null  float64\n",
      " 7   Reviews       24800 non-null  object \n",
      "dtypes: float64(1), int64(1), object(6)\n",
      "memory usage: 1.5+ MB\n"
     ]
    }
   ],
   "source": [
    "data.info()"
   ]
  },
  {
   "cell_type": "code",
   "execution_count": 9,
   "id": "85fb2d7b",
   "metadata": {},
   "outputs": [
    {
     "data": {
      "text/html": [
       "<div>\n",
       "<style scoped>\n",
       "    .dataframe tbody tr th:only-of-type {\n",
       "        vertical-align: middle;\n",
       "    }\n",
       "\n",
       "    .dataframe tbody tr th {\n",
       "        vertical-align: top;\n",
       "    }\n",
       "\n",
       "    .dataframe thead th {\n",
       "        text-align: right;\n",
       "    }\n",
       "</style>\n",
       "<table border=\"1\" class=\"dataframe\">\n",
       "  <thead>\n",
       "    <tr style=\"text-align: right;\">\n",
       "      <th></th>\n",
       "      <th>Made Year</th>\n",
       "      <th>Ratings</th>\n",
       "    </tr>\n",
       "  </thead>\n",
       "  <tbody>\n",
       "    <tr>\n",
       "      <th>count</th>\n",
       "      <td>24900.000000</td>\n",
       "      <td>24700.000000</td>\n",
       "    </tr>\n",
       "    <tr>\n",
       "      <th>mean</th>\n",
       "      <td>2018.714859</td>\n",
       "      <td>4.538462</td>\n",
       "    </tr>\n",
       "    <tr>\n",
       "      <th>std</th>\n",
       "      <td>2.038580</td>\n",
       "      <td>0.461062</td>\n",
       "    </tr>\n",
       "    <tr>\n",
       "      <th>min</th>\n",
       "      <td>2005.000000</td>\n",
       "      <td>1.500000</td>\n",
       "    </tr>\n",
       "    <tr>\n",
       "      <th>25%</th>\n",
       "      <td>2018.000000</td>\n",
       "      <td>4.400000</td>\n",
       "    </tr>\n",
       "    <tr>\n",
       "      <th>50%</th>\n",
       "      <td>2019.000000</td>\n",
       "      <td>4.700000</td>\n",
       "    </tr>\n",
       "    <tr>\n",
       "      <th>75%</th>\n",
       "      <td>2020.000000</td>\n",
       "      <td>4.800000</td>\n",
       "    </tr>\n",
       "    <tr>\n",
       "      <th>max</th>\n",
       "      <td>2021.000000</td>\n",
       "      <td>5.000000</td>\n",
       "    </tr>\n",
       "  </tbody>\n",
       "</table>\n",
       "</div>"
      ],
      "text/plain": [
       "          Made Year       Ratings\n",
       "count  24900.000000  24700.000000\n",
       "mean    2018.714859      4.538462\n",
       "std        2.038580      0.461062\n",
       "min     2005.000000      1.500000\n",
       "25%     2018.000000      4.400000\n",
       "50%     2019.000000      4.700000\n",
       "75%     2020.000000      4.800000\n",
       "max     2021.000000      5.000000"
      ]
     },
     "execution_count": 9,
     "metadata": {},
     "output_type": "execute_result"
    }
   ],
   "source": [
    "data.describe()"
   ]
  },
  {
   "cell_type": "markdown",
   "id": "c0b4fd99",
   "metadata": {},
   "source": [
    "**There are null values in the Mileage, Ratings and Reviews columns. Dropping them as the data size is huge and wont affect the prediction**"
   ]
  },
  {
   "cell_type": "code",
   "execution_count": 10,
   "id": "a6f8ad99",
   "metadata": {},
   "outputs": [],
   "source": [
    "data = data.dropna()"
   ]
  },
  {
   "cell_type": "code",
   "execution_count": 11,
   "id": "a0a28a7e",
   "metadata": {},
   "outputs": [
    {
     "data": {
      "text/plain": [
       "(24600, 8)"
      ]
     },
     "execution_count": 11,
     "metadata": {},
     "output_type": "execute_result"
    }
   ],
   "source": [
    "data.shape"
   ]
  },
  {
   "cell_type": "code",
   "execution_count": 12,
   "id": "be9e49f8",
   "metadata": {},
   "outputs": [],
   "source": [
    "df = data"
   ]
  },
  {
   "cell_type": "code",
   "execution_count": 13,
   "id": "7ba6ec97",
   "metadata": {},
   "outputs": [
    {
     "name": "stderr",
     "output_type": "stream",
     "text": [
      "<ipython-input-13-f8b0830b13ee>:1: FutureWarning: The default value of regex will change from True to False in a future version.\n",
      "  df['Price'] = df['Price'].str.replace(r'\\D', '').astype(int)\n",
      "<ipython-input-13-f8b0830b13ee>:2: FutureWarning: The default value of regex will change from True to False in a future version.\n",
      "  df['Mileage'] = df['Mileage'].str.replace(r'\\D', '').astype(int)\n",
      "<ipython-input-13-f8b0830b13ee>:3: FutureWarning: The default value of regex will change from True to False in a future version.\n",
      "  df['Reviews'] = df['Reviews'].str.replace(r'\\D', '').astype(int)\n"
     ]
    }
   ],
   "source": [
    "df['Price'] = df['Price'].str.replace(r'\\D', '').astype(int)\n",
    "df['Mileage'] = df['Mileage'].str.replace(r'\\D', '').astype(int)\n",
    "df['Reviews'] = df['Reviews'].str.replace(r'\\D', '').astype(int)"
   ]
  },
  {
   "cell_type": "code",
   "execution_count": 14,
   "id": "c1c88361",
   "metadata": {},
   "outputs": [
    {
     "data": {
      "text/html": [
       "<div>\n",
       "<style scoped>\n",
       "    .dataframe tbody tr th:only-of-type {\n",
       "        vertical-align: middle;\n",
       "    }\n",
       "\n",
       "    .dataframe tbody tr th {\n",
       "        vertical-align: top;\n",
       "    }\n",
       "\n",
       "    .dataframe thead th {\n",
       "        text-align: right;\n",
       "    }\n",
       "</style>\n",
       "<table border=\"1\" class=\"dataframe\">\n",
       "  <thead>\n",
       "    <tr style=\"text-align: right;\">\n",
       "      <th></th>\n",
       "      <th>Manufacturer</th>\n",
       "      <th>Model</th>\n",
       "      <th>Made Year</th>\n",
       "      <th>Mileage</th>\n",
       "      <th>Price</th>\n",
       "      <th>Dealer</th>\n",
       "      <th>Ratings</th>\n",
       "      <th>Reviews</th>\n",
       "    </tr>\n",
       "  </thead>\n",
       "  <tbody>\n",
       "    <tr>\n",
       "      <th>0</th>\n",
       "      <td>Honda</td>\n",
       "      <td>CR-V</td>\n",
       "      <td>2018</td>\n",
       "      <td>31360</td>\n",
       "      <td>33489</td>\n",
       "      <td>Motor Werks - Barrington Auto Mall</td>\n",
       "      <td>4.8</td>\n",
       "      <td>4656</td>\n",
       "    </tr>\n",
       "    <tr>\n",
       "      <th>1</th>\n",
       "      <td>Kia</td>\n",
       "      <td>Telluride</td>\n",
       "      <td>2021</td>\n",
       "      <td>5665</td>\n",
       "      <td>58278</td>\n",
       "      <td>Dean Team Volkswagen Subaru of Ballwin</td>\n",
       "      <td>4.9</td>\n",
       "      <td>4685</td>\n",
       "    </tr>\n",
       "    <tr>\n",
       "      <th>2</th>\n",
       "      <td>Cadillac</td>\n",
       "      <td>SRX</td>\n",
       "      <td>2012</td>\n",
       "      <td>99736</td>\n",
       "      <td>14985</td>\n",
       "      <td>Hendersonville Auto Brokers</td>\n",
       "      <td>3.9</td>\n",
       "      <td>20</td>\n",
       "    </tr>\n",
       "    <tr>\n",
       "      <th>3</th>\n",
       "      <td>Chevrolet</td>\n",
       "      <td>Traverse</td>\n",
       "      <td>2020</td>\n",
       "      <td>48705</td>\n",
       "      <td>35999</td>\n",
       "      <td>Vroom - Get It Delivered Nationwide</td>\n",
       "      <td>3.6</td>\n",
       "      <td>7870</td>\n",
       "    </tr>\n",
       "    <tr>\n",
       "      <th>4</th>\n",
       "      <td>Honda</td>\n",
       "      <td>CR-V</td>\n",
       "      <td>2018</td>\n",
       "      <td>13221</td>\n",
       "      <td>34995</td>\n",
       "      <td>Valley Honda</td>\n",
       "      <td>4.9</td>\n",
       "      <td>8750</td>\n",
       "    </tr>\n",
       "  </tbody>\n",
       "</table>\n",
       "</div>"
      ],
      "text/plain": [
       "  Manufacturer      Model  Made Year  Mileage  Price  \\\n",
       "0        Honda       CR-V       2018    31360  33489   \n",
       "1          Kia  Telluride       2021     5665  58278   \n",
       "2     Cadillac        SRX       2012    99736  14985   \n",
       "3    Chevrolet   Traverse       2020    48705  35999   \n",
       "4        Honda       CR-V       2018    13221  34995   \n",
       "\n",
       "                                   Dealer  Ratings  Reviews  \n",
       "0      Motor Werks - Barrington Auto Mall      4.8     4656  \n",
       "1  Dean Team Volkswagen Subaru of Ballwin      4.9     4685  \n",
       "2             Hendersonville Auto Brokers      3.9       20  \n",
       "3     Vroom - Get It Delivered Nationwide      3.6     7870  \n",
       "4                            Valley Honda      4.9     8750  "
      ]
     },
     "execution_count": 14,
     "metadata": {},
     "output_type": "execute_result"
    }
   ],
   "source": [
    "df.head()"
   ]
  },
  {
   "cell_type": "code",
   "execution_count": 15,
   "id": "3555d0b0",
   "metadata": {},
   "outputs": [
    {
     "data": {
      "text/plain": [
       "Honda            4100\n",
       "BMW              2300\n",
       "Ford             2000\n",
       "Jeep             1600\n",
       "Chevrolet        1200\n",
       "Mazda            1100\n",
       "Toyota           1100\n",
       "Mercedes-Benz    1100\n",
       "Acura            1000\n",
       "GMC               900\n",
       "Lincoln           900\n",
       "Cadillac          900\n",
       "Nissan            800\n",
       "Volvo             800\n",
       "Lexus             700\n",
       "Land              700\n",
       "Kia               500\n",
       "Audi              400\n",
       "INFINITI          400\n",
       "Dodge             400\n",
       "Volkswagen        300\n",
       "Porsche           300\n",
       "Hyundai           300\n",
       "Buick             300\n",
       "Subaru            300\n",
       "Jaguar            100\n",
       "Lamborghini       100\n",
       "Name: Manufacturer, dtype: int64"
      ]
     },
     "execution_count": 15,
     "metadata": {},
     "output_type": "execute_result"
    }
   ],
   "source": [
    "df['Manufacturer'].value_counts()"
   ]
  },
  {
   "cell_type": "code",
   "execution_count": 16,
   "id": "0fd9e8ac",
   "metadata": {},
   "outputs": [
    {
     "data": {
      "text/plain": [
       "2019    8300\n",
       "2020    6800\n",
       "2018    3500\n",
       "2021    2300\n",
       "2016    1000\n",
       "2017    1000\n",
       "2015     800\n",
       "2011     200\n",
       "2012     200\n",
       "2013     200\n",
       "2005     100\n",
       "2010     100\n",
       "2014     100\n",
       "Name: Made Year, dtype: int64"
      ]
     },
     "execution_count": 16,
     "metadata": {},
     "output_type": "execute_result"
    }
   ],
   "source": [
    "df['Made Year'].value_counts()"
   ]
  },
  {
   "cell_type": "code",
   "execution_count": 17,
   "id": "df5c2c44",
   "metadata": {},
   "outputs": [
    {
     "name": "stdout",
     "output_type": "stream",
     "text": [
      "<class 'pandas.core.frame.DataFrame'>\n",
      "Int64Index: 24600 entries, 0 to 24899\n",
      "Data columns (total 8 columns):\n",
      " #   Column        Non-Null Count  Dtype  \n",
      "---  ------        --------------  -----  \n",
      " 0   Manufacturer  24600 non-null  object \n",
      " 1   Model         24600 non-null  object \n",
      " 2   Made Year     24600 non-null  int64  \n",
      " 3   Mileage       24600 non-null  int32  \n",
      " 4   Price         24600 non-null  int32  \n",
      " 5   Dealer        24600 non-null  object \n",
      " 6   Ratings       24600 non-null  float64\n",
      " 7   Reviews       24600 non-null  int32  \n",
      "dtypes: float64(1), int32(3), int64(1), object(3)\n",
      "memory usage: 1.4+ MB\n"
     ]
    }
   ],
   "source": [
    "df.info()"
   ]
  },
  {
   "cell_type": "code",
   "execution_count": 18,
   "id": "7b53865e",
   "metadata": {},
   "outputs": [
    {
     "data": {
      "text/plain": [
       "4.8    5700\n",
       "4.7    5100\n",
       "4.9    2900\n",
       "4.6    2700\n",
       "4.4    1900\n",
       "4.5    1300\n",
       "4.3    1100\n",
       "4.2     800\n",
       "4.1     700\n",
       "3.6     400\n",
       "4.0     400\n",
       "2.9     300\n",
       "5.0     300\n",
       "3.1     300\n",
       "3.9     200\n",
       "3.2     100\n",
       "2.1     100\n",
       "1.5     100\n",
       "3.5     100\n",
       "3.3     100\n",
       "Name: Ratings, dtype: int64"
      ]
     },
     "execution_count": 18,
     "metadata": {},
     "output_type": "execute_result"
    }
   ],
   "source": [
    "df['Ratings'].value_counts()"
   ]
  },
  {
   "cell_type": "code",
   "execution_count": 19,
   "id": "6d8ce7ea",
   "metadata": {},
   "outputs": [
    {
     "data": {
      "image/png": "[encoded data removed]",
      "text/plain": [
       "<Figure size 720x360 with 1 Axes>"
      ]
     },
     "metadata": {
      "needs_background": "light"
     },
     "output_type": "display_data"
    }
   ],
   "source": [
    "boxplot = df.boxplot(figsize=(10,5))"
   ]
  },
  {
   "cell_type": "code",
   "execution_count": 22,
   "id": "0b8dd66f",
   "metadata": {},
   "outputs": [
    {
     "data": {
      "text/plain": [
       "<AxesSubplot:xlabel='Price', ylabel='Count'>"
      ]
     },
     "execution_count": 22,
     "metadata": {},
     "output_type": "execute_result"
    },
    {
     "data": {
      "image/png": "[encoded data removed]",
      "text/plain": [
       "<Figure size 720x432 with 1 Axes>"
      ]
     },
     "metadata": {
      "needs_background": "light"
     },
     "output_type": "display_data"
    }
   ],
   "source": [
    "plt.figure(figsize = (10,6))\n",
    "sns.histplot(data =df['Price'])"
   ]
  },
  {
   "cell_type": "code",
   "execution_count": 19,
   "id": "12c443c1",
   "metadata": {},
   "outputs": [
    {
     "data": {
      "text/html": [
       "<div>\n",
       "<style scoped>\n",
       "    .dataframe tbody tr th:only-of-type {\n",
       "        vertical-align: middle;\n",
       "    }\n",
       "\n",
       "    .dataframe tbody tr th {\n",
       "        vertical-align: top;\n",
       "    }\n",
       "\n",
       "    .dataframe thead th {\n",
       "        text-align: right;\n",
       "    }\n",
       "</style>\n",
       "<table border=\"1\" class=\"dataframe\">\n",
       "  <thead>\n",
       "    <tr style=\"text-align: right;\">\n",
       "      <th></th>\n",
       "      <th>Manufacturer</th>\n",
       "      <th>Model</th>\n",
       "      <th>Made Year</th>\n",
       "      <th>Mileage</th>\n",
       "      <th>Price</th>\n",
       "      <th>Dealer</th>\n",
       "      <th>Ratings</th>\n",
       "      <th>Reviews</th>\n",
       "    </tr>\n",
       "  </thead>\n",
       "  <tbody>\n",
       "    <tr>\n",
       "      <th>12</th>\n",
       "      <td>Lamborghini</td>\n",
       "      <td>Urus</td>\n",
       "      <td>2020</td>\n",
       "      <td>33209</td>\n",
       "      <td>279900</td>\n",
       "      <td>Motor Werks - Barrington Auto Mall</td>\n",
       "      <td>4.8</td>\n",
       "      <td>4656</td>\n",
       "    </tr>\n",
       "    <tr>\n",
       "      <th>49</th>\n",
       "      <td>Mercedes-Benz</td>\n",
       "      <td>G-Class</td>\n",
       "      <td>2020</td>\n",
       "      <td>16112</td>\n",
       "      <td>189987</td>\n",
       "      <td>Motor Werks - Barrington Auto Mall</td>\n",
       "      <td>4.8</td>\n",
       "      <td>4656</td>\n",
       "    </tr>\n",
       "    <tr>\n",
       "      <th>68</th>\n",
       "      <td>Mercedes-Benz</td>\n",
       "      <td>G-Class</td>\n",
       "      <td>2020</td>\n",
       "      <td>16277</td>\n",
       "      <td>179999</td>\n",
       "      <td>Mercedes Benz of Hoffman Estates</td>\n",
       "      <td>4.7</td>\n",
       "      <td>1061</td>\n",
       "    </tr>\n",
       "    <tr>\n",
       "      <th>261</th>\n",
       "      <td>Lamborghini</td>\n",
       "      <td>Urus</td>\n",
       "      <td>2020</td>\n",
       "      <td>33209</td>\n",
       "      <td>279900</td>\n",
       "      <td>Motor Werks - Barrington Auto Mall</td>\n",
       "      <td>4.8</td>\n",
       "      <td>4656</td>\n",
       "    </tr>\n",
       "    <tr>\n",
       "      <th>298</th>\n",
       "      <td>Mercedes-Benz</td>\n",
       "      <td>G-Class</td>\n",
       "      <td>2020</td>\n",
       "      <td>16112</td>\n",
       "      <td>189987</td>\n",
       "      <td>Motor Werks - Barrington Auto Mall</td>\n",
       "      <td>4.8</td>\n",
       "      <td>4656</td>\n",
       "    </tr>\n",
       "    <tr>\n",
       "      <th>...</th>\n",
       "      <td>...</td>\n",
       "      <td>...</td>\n",
       "      <td>...</td>\n",
       "      <td>...</td>\n",
       "      <td>...</td>\n",
       "      <td>...</td>\n",
       "      <td>...</td>\n",
       "      <td>...</td>\n",
       "    </tr>\n",
       "    <tr>\n",
       "      <th>24451</th>\n",
       "      <td>Mercedes-Benz</td>\n",
       "      <td>G-Class</td>\n",
       "      <td>2020</td>\n",
       "      <td>16112</td>\n",
       "      <td>189987</td>\n",
       "      <td>Motor Werks - Barrington Auto Mall</td>\n",
       "      <td>4.8</td>\n",
       "      <td>4656</td>\n",
       "    </tr>\n",
       "    <tr>\n",
       "      <th>24470</th>\n",
       "      <td>Mercedes-Benz</td>\n",
       "      <td>G-Class</td>\n",
       "      <td>2020</td>\n",
       "      <td>16277</td>\n",
       "      <td>179999</td>\n",
       "      <td>Mercedes Benz of Hoffman Estates</td>\n",
       "      <td>4.7</td>\n",
       "      <td>1061</td>\n",
       "    </tr>\n",
       "    <tr>\n",
       "      <th>24663</th>\n",
       "      <td>Lamborghini</td>\n",
       "      <td>Urus</td>\n",
       "      <td>2020</td>\n",
       "      <td>33209</td>\n",
       "      <td>279900</td>\n",
       "      <td>Motor Werks - Barrington Auto Mall</td>\n",
       "      <td>4.8</td>\n",
       "      <td>4656</td>\n",
       "    </tr>\n",
       "    <tr>\n",
       "      <th>24700</th>\n",
       "      <td>Mercedes-Benz</td>\n",
       "      <td>G-Class</td>\n",
       "      <td>2020</td>\n",
       "      <td>16112</td>\n",
       "      <td>189987</td>\n",
       "      <td>Motor Werks - Barrington Auto Mall</td>\n",
       "      <td>4.8</td>\n",
       "      <td>4656</td>\n",
       "    </tr>\n",
       "    <tr>\n",
       "      <th>24719</th>\n",
       "      <td>Mercedes-Benz</td>\n",
       "      <td>G-Class</td>\n",
       "      <td>2020</td>\n",
       "      <td>16277</td>\n",
       "      <td>179999</td>\n",
       "      <td>Mercedes Benz of Hoffman Estates</td>\n",
       "      <td>4.7</td>\n",
       "      <td>1061</td>\n",
       "    </tr>\n",
       "  </tbody>\n",
       "</table>\n",
       "<p>300 rows × 8 columns</p>\n",
       "</div>"
      ],
      "text/plain": [
       "        Manufacturer    Model  Made Year  Mileage   Price  \\\n",
       "12       Lamborghini     Urus       2020    33209  279900   \n",
       "49     Mercedes-Benz  G-Class       2020    16112  189987   \n",
       "68     Mercedes-Benz  G-Class       2020    16277  179999   \n",
       "261      Lamborghini     Urus       2020    33209  279900   \n",
       "298    Mercedes-Benz  G-Class       2020    16112  189987   \n",
       "...              ...      ...        ...      ...     ...   \n",
       "24451  Mercedes-Benz  G-Class       2020    16112  189987   \n",
       "24470  Mercedes-Benz  G-Class       2020    16277  179999   \n",
       "24663    Lamborghini     Urus       2020    33209  279900   \n",
       "24700  Mercedes-Benz  G-Class       2020    16112  189987   \n",
       "24719  Mercedes-Benz  G-Class       2020    16277  179999   \n",
       "\n",
       "                                   Dealer  Ratings  Reviews  \n",
       "12     Motor Werks - Barrington Auto Mall      4.8     4656  \n",
       "49     Motor Werks - Barrington Auto Mall      4.8     4656  \n",
       "68       Mercedes Benz of Hoffman Estates      4.7     1061  \n",
       "261    Motor Werks - Barrington Auto Mall      4.8     4656  \n",
       "298    Motor Werks - Barrington Auto Mall      4.8     4656  \n",
       "...                                   ...      ...      ...  \n",
       "24451  Motor Werks - Barrington Auto Mall      4.8     4656  \n",
       "24470    Mercedes Benz of Hoffman Estates      4.7     1061  \n",
       "24663  Motor Werks - Barrington Auto Mall      4.8     4656  \n",
       "24700  Motor Werks - Barrington Auto Mall      4.8     4656  \n",
       "24719    Mercedes Benz of Hoffman Estates      4.7     1061  \n",
       "\n",
       "[300 rows x 8 columns]"
      ]
     },
     "execution_count": 19,
     "metadata": {},
     "output_type": "execute_result"
    }
   ],
   "source": [
    "df.loc[df['Price'] > 150000]"
   ]
  },
  {
   "cell_type": "markdown",
   "id": "d104c5b8",
   "metadata": {},
   "source": [
    "**Price column seemed to have an outlier when visualised through boxplot and histogram. But on closer inspection of the respective data rows, it can be seen that those values are of luxury cars like Mercedes Benz, Lamborghini. So they are not outliers**"
   ]
  },
  {
   "cell_type": "code",
   "execution_count": 23,
   "id": "a680016f",
   "metadata": {},
   "outputs": [
    {
     "data": {
      "text/plain": [
       "<AxesSubplot:xlabel='Mileage', ylabel='Count'>"
      ]
     },
     "execution_count": 23,
     "metadata": {},
     "output_type": "execute_result"
    },
    {
     "data": {
      "image/png": "[encoded data removed]",
      "text/plain": [
       "<Figure size 720x432 with 1 Axes>"
      ]
     },
     "metadata": {
      "needs_background": "light"
     },
     "output_type": "display_data"
    }
   ],
   "source": [
    "plt.figure(figsize = (10,6))\n",
    "sns.histplot(data =df['Mileage'])"
   ]
  },
  {
   "cell_type": "code",
   "execution_count": 21,
   "id": "3b1fd57c",
   "metadata": {},
   "outputs": [
    {
     "data": {
      "text/html": [
       "<div>\n",
       "<style scoped>\n",
       "    .dataframe tbody tr th:only-of-type {\n",
       "        vertical-align: middle;\n",
       "    }\n",
       "\n",
       "    .dataframe tbody tr th {\n",
       "        vertical-align: top;\n",
       "    }\n",
       "\n",
       "    .dataframe thead th {\n",
       "        text-align: right;\n",
       "    }\n",
       "</style>\n",
       "<table border=\"1\" class=\"dataframe\">\n",
       "  <thead>\n",
       "    <tr style=\"text-align: right;\">\n",
       "      <th></th>\n",
       "      <th>Manufacturer</th>\n",
       "      <th>Model</th>\n",
       "      <th>Made Year</th>\n",
       "      <th>Mileage</th>\n",
       "      <th>Price</th>\n",
       "      <th>Dealer</th>\n",
       "      <th>Ratings</th>\n",
       "      <th>Reviews</th>\n",
       "    </tr>\n",
       "  </thead>\n",
       "  <tbody>\n",
       "    <tr>\n",
       "      <th>29</th>\n",
       "      <td>Chevrolet</td>\n",
       "      <td>Suburban</td>\n",
       "      <td>2015</td>\n",
       "      <td>130306</td>\n",
       "      <td>30995</td>\n",
       "      <td>Foxx Motor Sports</td>\n",
       "      <td>1.5</td>\n",
       "      <td>1</td>\n",
       "    </tr>\n",
       "    <tr>\n",
       "      <th>134</th>\n",
       "      <td>Chevrolet</td>\n",
       "      <td>Equinox</td>\n",
       "      <td>2011</td>\n",
       "      <td>151652</td>\n",
       "      <td>9988</td>\n",
       "      <td>Libertyville Chevrolet</td>\n",
       "      <td>4.3</td>\n",
       "      <td>929</td>\n",
       "    </tr>\n",
       "    <tr>\n",
       "      <th>142</th>\n",
       "      <td>BMW</td>\n",
       "      <td>X5</td>\n",
       "      <td>2013</td>\n",
       "      <td>114127</td>\n",
       "      <td>18990</td>\n",
       "      <td>Car City Inc</td>\n",
       "      <td>3.6</td>\n",
       "      <td>31</td>\n",
       "    </tr>\n",
       "    <tr>\n",
       "      <th>164</th>\n",
       "      <td>Dodge</td>\n",
       "      <td>Journey</td>\n",
       "      <td>2015</td>\n",
       "      <td>109135</td>\n",
       "      <td>14377</td>\n",
       "      <td>Monroe Superstore Dodge Chrysler Jeep RAM</td>\n",
       "      <td>4.5</td>\n",
       "      <td>312</td>\n",
       "    </tr>\n",
       "    <tr>\n",
       "      <th>231</th>\n",
       "      <td>Honda</td>\n",
       "      <td>Pilot</td>\n",
       "      <td>2005</td>\n",
       "      <td>101039</td>\n",
       "      <td>2800</td>\n",
       "      <td>Your Choice Autos Waukegan</td>\n",
       "      <td>4.1</td>\n",
       "      <td>92</td>\n",
       "    </tr>\n",
       "    <tr>\n",
       "      <th>...</th>\n",
       "      <td>...</td>\n",
       "      <td>...</td>\n",
       "      <td>...</td>\n",
       "      <td>...</td>\n",
       "      <td>...</td>\n",
       "      <td>...</td>\n",
       "      <td>...</td>\n",
       "      <td>...</td>\n",
       "    </tr>\n",
       "    <tr>\n",
       "      <th>24793</th>\n",
       "      <td>BMW</td>\n",
       "      <td>X5</td>\n",
       "      <td>2013</td>\n",
       "      <td>114127</td>\n",
       "      <td>18990</td>\n",
       "      <td>Car City Inc</td>\n",
       "      <td>3.6</td>\n",
       "      <td>31</td>\n",
       "    </tr>\n",
       "    <tr>\n",
       "      <th>24815</th>\n",
       "      <td>Dodge</td>\n",
       "      <td>Journey</td>\n",
       "      <td>2015</td>\n",
       "      <td>109135</td>\n",
       "      <td>14377</td>\n",
       "      <td>Monroe Superstore Dodge Chrysler Jeep RAM</td>\n",
       "      <td>4.5</td>\n",
       "      <td>312</td>\n",
       "    </tr>\n",
       "    <tr>\n",
       "      <th>24882</th>\n",
       "      <td>Honda</td>\n",
       "      <td>Pilot</td>\n",
       "      <td>2005</td>\n",
       "      <td>101039</td>\n",
       "      <td>2800</td>\n",
       "      <td>Your Choice Autos Waukegan</td>\n",
       "      <td>4.1</td>\n",
       "      <td>92</td>\n",
       "    </tr>\n",
       "    <tr>\n",
       "      <th>24892</th>\n",
       "      <td>GMC</td>\n",
       "      <td>Yukon</td>\n",
       "      <td>2013</td>\n",
       "      <td>122461</td>\n",
       "      <td>18962</td>\n",
       "      <td>Heller Ford</td>\n",
       "      <td>4.8</td>\n",
       "      <td>690</td>\n",
       "    </tr>\n",
       "    <tr>\n",
       "      <th>24899</th>\n",
       "      <td>Acura</td>\n",
       "      <td>RDX</td>\n",
       "      <td>2012</td>\n",
       "      <td>131397</td>\n",
       "      <td>13500</td>\n",
       "      <td>Angel Motors Inc.</td>\n",
       "      <td>4.2</td>\n",
       "      <td>16</td>\n",
       "    </tr>\n",
       "  </tbody>\n",
       "</table>\n",
       "<p>700 rows × 8 columns</p>\n",
       "</div>"
      ],
      "text/plain": [
       "      Manufacturer     Model  Made Year  Mileage  Price  \\\n",
       "29       Chevrolet  Suburban       2015   130306  30995   \n",
       "134      Chevrolet   Equinox       2011   151652   9988   \n",
       "142            BMW        X5       2013   114127  18990   \n",
       "164          Dodge   Journey       2015   109135  14377   \n",
       "231          Honda     Pilot       2005   101039   2800   \n",
       "...            ...       ...        ...      ...    ...   \n",
       "24793          BMW        X5       2013   114127  18990   \n",
       "24815        Dodge   Journey       2015   109135  14377   \n",
       "24882        Honda     Pilot       2005   101039   2800   \n",
       "24892          GMC     Yukon       2013   122461  18962   \n",
       "24899        Acura       RDX       2012   131397  13500   \n",
       "\n",
       "                                          Dealer  Ratings  Reviews  \n",
       "29                             Foxx Motor Sports      1.5        1  \n",
       "134                       Libertyville Chevrolet      4.3      929  \n",
       "142                                 Car City Inc      3.6       31  \n",
       "164    Monroe Superstore Dodge Chrysler Jeep RAM      4.5      312  \n",
       "231                   Your Choice Autos Waukegan      4.1       92  \n",
       "...                                          ...      ...      ...  \n",
       "24793                               Car City Inc      3.6       31  \n",
       "24815  Monroe Superstore Dodge Chrysler Jeep RAM      4.5      312  \n",
       "24882                 Your Choice Autos Waukegan      4.1       92  \n",
       "24892                                Heller Ford      4.8      690  \n",
       "24899                          Angel Motors Inc.      4.2       16  \n",
       "\n",
       "[700 rows x 8 columns]"
      ]
     },
     "execution_count": 21,
     "metadata": {},
     "output_type": "execute_result"
    }
   ],
   "source": [
    "df.loc[df['Mileage'] > 99999]"
   ]
  },
  {
   "cell_type": "code",
   "execution_count": 24,
   "id": "e8afe35d",
   "metadata": {},
   "outputs": [
    {
     "data": {
      "text/plain": [
       "<AxesSubplot:xlabel='Mileage', ylabel='Price'>"
      ]
     },
     "execution_count": 24,
     "metadata": {},
     "output_type": "execute_result"
    },
    {
     "data": {
      "image/png": "[encoded data removed]",
      "text/plain": [
       "<Figure size 720x432 with 1 Axes>"
      ]
     },
     "metadata": {
      "needs_background": "light"
     },
     "output_type": "display_data"
    }
   ],
   "source": [
    "plt.figure(figsize = (10,6))\n",
    "sns.scatterplot(data =df, x ='Mileage', y = 'Price')"
   ]
  },
  {
   "cell_type": "markdown",
   "id": "01ce8a0b",
   "metadata": {},
   "source": [
    "**It can be seen that higher the Mileage, lower the price**"
   ]
  },
  {
   "cell_type": "code",
   "execution_count": 27,
   "id": "970698f5",
   "metadata": {},
   "outputs": [
    {
     "data": {
      "text/plain": [
       "Text(0, 0.5, 'Price')"
      ]
     },
     "execution_count": 27,
     "metadata": {},
     "output_type": "execute_result"
    },
    {
     "data": {
      "image/png": "[encoded data removed]",
      "text/plain": [
       "<Figure size 720x432 with 1 Axes>"
      ]
     },
     "metadata": {
      "needs_background": "light"
     },
     "output_type": "display_data"
    }
   ],
   "source": [
    "plt.figure(figsize = (10,6))\n",
    "sns.scatterplot(data =df, x ='Made Year', y = 'Price')\n",
    "plt.title(\"Made year and Price relation\")\n",
    "plt.xlabel(\"Made Year\")\n",
    "plt.ylabel(\"Price\")"
   ]
  },
  {
   "cell_type": "markdown",
   "id": "d32ac9fe",
   "metadata": {},
   "source": [
    "**It can be seen that newer the car, higher the price**"
   ]
  },
  {
   "cell_type": "code",
   "execution_count": 28,
   "id": "bf66c3b1",
   "metadata": {},
   "outputs": [
    {
     "data": {
      "text/plain": [
       "Text(0, 0.5, 'Price')"
      ]
     },
     "execution_count": 28,
     "metadata": {},
     "output_type": "execute_result"
    },
    {
     "data": {
      "image/png": "[encoded data removed]",
      "text/plain": [
       "<Figure size 720x432 with 1 Axes>"
      ]
     },
     "metadata": {
      "needs_background": "light"
     },
     "output_type": "display_data"
    }
   ],
   "source": [
    "plt.figure(figsize = (10,6))\n",
    "sns.scatterplot(data =df, x ='Ratings', y = 'Price')\n",
    "plt.title(\"Ratings and Price relation\")\n",
    "plt.xlabel(\"Ratings\")\n",
    "plt.ylabel(\"Price\")"
   ]
  },
  {
   "cell_type": "markdown",
   "id": "f53b9f9c",
   "metadata": {},
   "source": [
    "**Higher the rating, higher the price**"
   ]
  },
  {
   "cell_type": "code",
   "execution_count": 25,
   "id": "7d6f6002",
   "metadata": {},
   "outputs": [],
   "source": [
    "#plt.figure(figsize = (15,8))\n",
    "#sns.catplot(y=\"Price\", hue=\"Manufacturer\", kind=\"swarm\", data= df)"
   ]
  },
  {
   "cell_type": "code",
   "execution_count": 26,
   "id": "bfa88c3c",
   "metadata": {},
   "outputs": [
    {
     "data": {
      "text/html": [
       "<div>\n",
       "<style scoped>\n",
       "    .dataframe tbody tr th:only-of-type {\n",
       "        vertical-align: middle;\n",
       "    }\n",
       "\n",
       "    .dataframe tbody tr th {\n",
       "        vertical-align: top;\n",
       "    }\n",
       "\n",
       "    .dataframe thead th {\n",
       "        text-align: right;\n",
       "    }\n",
       "</style>\n",
       "<table border=\"1\" class=\"dataframe\">\n",
       "  <thead>\n",
       "    <tr style=\"text-align: right;\">\n",
       "      <th></th>\n",
       "      <th>Made Year</th>\n",
       "      <th>Mileage</th>\n",
       "      <th>Price</th>\n",
       "      <th>Ratings</th>\n",
       "    </tr>\n",
       "  </thead>\n",
       "  <tbody>\n",
       "    <tr>\n",
       "      <th>0</th>\n",
       "      <td>2018</td>\n",
       "      <td>31360</td>\n",
       "      <td>33489</td>\n",
       "      <td>4.8</td>\n",
       "    </tr>\n",
       "    <tr>\n",
       "      <th>1</th>\n",
       "      <td>2021</td>\n",
       "      <td>5665</td>\n",
       "      <td>58278</td>\n",
       "      <td>4.9</td>\n",
       "    </tr>\n",
       "    <tr>\n",
       "      <th>2</th>\n",
       "      <td>2012</td>\n",
       "      <td>99736</td>\n",
       "      <td>14985</td>\n",
       "      <td>3.9</td>\n",
       "    </tr>\n",
       "    <tr>\n",
       "      <th>3</th>\n",
       "      <td>2020</td>\n",
       "      <td>48705</td>\n",
       "      <td>35999</td>\n",
       "      <td>3.6</td>\n",
       "    </tr>\n",
       "    <tr>\n",
       "      <th>4</th>\n",
       "      <td>2018</td>\n",
       "      <td>13221</td>\n",
       "      <td>34995</td>\n",
       "      <td>4.9</td>\n",
       "    </tr>\n",
       "    <tr>\n",
       "      <th>...</th>\n",
       "      <td>...</td>\n",
       "      <td>...</td>\n",
       "      <td>...</td>\n",
       "      <td>...</td>\n",
       "    </tr>\n",
       "    <tr>\n",
       "      <th>24895</th>\n",
       "      <td>2016</td>\n",
       "      <td>89722</td>\n",
       "      <td>27996</td>\n",
       "      <td>4.8</td>\n",
       "    </tr>\n",
       "    <tr>\n",
       "      <th>24896</th>\n",
       "      <td>2020</td>\n",
       "      <td>44587</td>\n",
       "      <td>39990</td>\n",
       "      <td>4.0</td>\n",
       "    </tr>\n",
       "    <tr>\n",
       "      <th>24897</th>\n",
       "      <td>2018</td>\n",
       "      <td>46615</td>\n",
       "      <td>54987</td>\n",
       "      <td>4.8</td>\n",
       "    </tr>\n",
       "    <tr>\n",
       "      <th>24898</th>\n",
       "      <td>2018</td>\n",
       "      <td>33351</td>\n",
       "      <td>37500</td>\n",
       "      <td>4.4</td>\n",
       "    </tr>\n",
       "    <tr>\n",
       "      <th>24899</th>\n",
       "      <td>2012</td>\n",
       "      <td>131397</td>\n",
       "      <td>13500</td>\n",
       "      <td>4.2</td>\n",
       "    </tr>\n",
       "  </tbody>\n",
       "</table>\n",
       "<p>24600 rows × 4 columns</p>\n",
       "</div>"
      ],
      "text/plain": [
       "       Made Year  Mileage  Price  Ratings\n",
       "0           2018    31360  33489      4.8\n",
       "1           2021     5665  58278      4.9\n",
       "2           2012    99736  14985      3.9\n",
       "3           2020    48705  35999      3.6\n",
       "4           2018    13221  34995      4.9\n",
       "...          ...      ...    ...      ...\n",
       "24895       2016    89722  27996      4.8\n",
       "24896       2020    44587  39990      4.0\n",
       "24897       2018    46615  54987      4.8\n",
       "24898       2018    33351  37500      4.4\n",
       "24899       2012   131397  13500      4.2\n",
       "\n",
       "[24600 rows x 4 columns]"
      ]
     },
     "execution_count": 26,
     "metadata": {},
     "output_type": "execute_result"
    }
   ],
   "source": [
    "data_heatmap = df.drop(df.columns[[0,1,5,7]],axis =1)\n",
    "data_heatmap"
   ]
  },
  {
   "cell_type": "code",
   "execution_count": 28,
   "id": "aa88ac77",
   "metadata": {},
   "outputs": [
    {
     "data": {
      "image/png": "[encoded data removed]",
      "text/plain": [
       "<Figure size 720x504 with 2 Axes>"
      ]
     },
     "metadata": {
      "needs_background": "light"
     },
     "output_type": "display_data"
    }
   ],
   "source": [
    "plt.figure(figsize=(10,7))\n",
    "corr=data_heatmap.corr()\n",
    "sns.heatmap(corr,xticklabels=corr.columns.values,yticklabels=corr.columns.values,annot=True);"
   ]
  },
  {
   "cell_type": "markdown",
   "id": "3b14cee0",
   "metadata": {},
   "source": [
    "**As seen, Price has a strong correlation with Made Year and Mileage**"
   ]
  },
  {
   "cell_type": "code",
   "execution_count": 29,
   "id": "f7df7096",
   "metadata": {},
   "outputs": [
    {
     "data": {
      "text/plain": [
       "Text(0, 0.5, 'Price')"
      ]
     },
     "execution_count": 29,
     "metadata": {},
     "output_type": "execute_result"
    },
    {
     "data": {
      "image/png": "[encoded data removed]",
      "text/plain": [
       "<Figure size 720x432 with 1 Axes>"
      ]
     },
     "metadata": {
      "needs_background": "light"
     },
     "output_type": "display_data"
    }
   ],
   "source": [
    "plt.figure(figsize=(10, 6))\n",
    "hs = df['Manufacturer'].value_counts().index\n",
    "sns.barplot(data=df, x='Manufacturer', y = 'Price', order=hs)\n",
    "plt.xticks(rotation=75)\n",
    "plt.title('Car Price based on Manufacturer')\n",
    "plt.xlabel('Car Manufacturer')\n",
    "plt.ylabel('Price')"
   ]
  },
  {
   "cell_type": "code",
   "execution_count": 52,
   "id": "2136a22a",
   "metadata": {},
   "outputs": [],
   "source": [
    "y = df['Price']\n",
    "X = df.drop(df.columns[[0,1,4,5,7]],axis =1)"
   ]
  },
  {
   "cell_type": "code",
   "execution_count": 53,
   "id": "69cdf46a",
   "metadata": {},
   "outputs": [],
   "source": [
    "from sklearn.preprocessing import StandardScaler\n",
    "scaler = StandardScaler().fit(X)\n",
    "X = scaler.transform(X)"
   ]
  },
  {
   "cell_type": "code",
   "execution_count": 54,
   "id": "8558cb7a",
   "metadata": {},
   "outputs": [],
   "source": [
    "from sklearn.model_selection import train_test_split\n",
    "X_train, X_test, y_train, y_test = train_test_split(X, y, test_size=0.25)"
   ]
  },
  {
   "cell_type": "code",
   "execution_count": 55,
   "id": "a9002fbc",
   "metadata": {},
   "outputs": [],
   "source": [
    "from sklearn import linear_model\n",
    "regr = linear_model.LinearRegression()\n",
    "regr.fit(X_train, y_train)\n",
    "y_pred = regr.predict(X_test)"
   ]
  },
  {
   "cell_type": "code",
   "execution_count": 58,
   "id": "2e7663bb",
   "metadata": {},
   "outputs": [
    {
     "name": "stdout",
     "output_type": "stream",
     "text": [
      "The r2 is:  0.13270392782241947\n",
      "The rmse is:  24406.256894978498\n"
     ]
    }
   ],
   "source": [
    "from sklearn.metrics import mean_squared_error, r2_score\n",
    "\n",
    "r2 = r2_score(y_test, y_pred)\n",
    "rmse = mean_squared_error(y_test, y_pred, squared=False)\n",
    "\n",
    "print('The r2 is: ', r2)\n",
    "print('The rmse is: ', rmse)\n"
   ]
  },
  {
   "cell_type": "code",
   "execution_count": null,
   "id": "f87efe7e",
   "metadata": {},
   "outputs": [],
   "source": []
  }
 ],
 "metadata": {
  "kernelspec": {
   "display_name": "Python 3 (ipykernel)",
   "language": "python",
   "name": "python3"
  },
  "language_info": {
   "codemirror_mode": {
    "name": "ipython",
    "version": 3
   },
   "file_extension": ".py",
   "mimetype": "text/x-python",
   "name": "python",
   "nbconvert_exporter": "python",
   "pygments_lexer": "ipython3",
   "version": "3.8.12"
  }
 },
 "nbformat": 4,
 "nbformat_minor": 5
}
